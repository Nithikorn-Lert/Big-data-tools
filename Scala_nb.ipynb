{
 "cells": [
  {
   "cell_type": "code",
   "execution_count": 1,
   "metadata": {},
   "outputs": [
    {
     "data": {
      "text/plain": [
       "Intitializing Scala interpreter ..."
      ]
     },
     "metadata": {},
     "output_type": "display_data"
    },
    {
     "data": {
      "text/plain": [
       "Spark Web UI available at http://DESKTOP-4NP12TR:4041\n",
       "SparkContext available as 'sc' (version = 2.4.3, master = local[*], app id = local-1578553362579)\n",
       "SparkSession available as 'spark'\n"
      ]
     },
     "metadata": {},
     "output_type": "display_data"
    },
    {
     "data": {
      "text/plain": [
       "import org.apache.spark.sql.SparkSession\r\n",
       "import org.apache.spark.SparkContext\r\n",
       "import org.apache.spark.SparkConf\n"
      ]
     },
     "execution_count": 1,
     "metadata": {},
     "output_type": "execute_result"
    }
   ],
   "source": [
    "import org.apache.spark.sql.SparkSession\n",
    "import org.apache.spark.SparkContext\n",
    "import org.apache.spark.SparkConf"
   ]
  },
  {
   "cell_type": "code",
   "execution_count": 2,
   "metadata": {},
   "outputs": [
    {
     "data": {
      "text/plain": [
       "spark: org.apache.spark.sql.SparkSession = org.apache.spark.sql.SparkSession@283d4dd5\r\n",
       "import spark.implicits._\n"
      ]
     },
     "execution_count": 2,
     "metadata": {},
     "output_type": "execute_result"
    }
   ],
   "source": [
    "val spark = SparkSession\n",
    "            .builder()\n",
    "            .master(\"local[*]\")\n",
    "            .appName(\"sample-app\")\n",
    "            .getOrCreate\n",
    "    import spark.implicits._"
   ]
  },
  {
   "cell_type": "code",
   "execution_count": 3,
   "metadata": {},
   "outputs": [
    {
     "data": {
      "text/plain": [
       "df_scala: org.apache.spark.sql.DataFrame = [Category: string, City: string ... 23 more fields]\n"
      ]
     },
     "execution_count": 3,
     "metadata": {},
     "output_type": "execute_result"
    }
   ],
   "source": [
    "val df_scala = spark\n",
    "                .read.format(\"csv\")\n",
    "                .option(\"header\", \"true\")\n",
    "                .load(\"C:/Users/CU - teminal/Desktop/Spark/Superstore.csv\")"
   ]
  },
  {
   "cell_type": "code",
   "execution_count": 4,
   "metadata": {},
   "outputs": [
    {
     "name": "stdout",
     "output_type": "stream",
     "text": [
      "root\n",
      " |-- Category: string (nullable = true)\n",
      " |-- City: string (nullable = true)\n",
      " |-- Container: string (nullable = true)\n",
      " |-- Customer ID: string (nullable = true)\n",
      " |-- Customer Name: string (nullable = true)\n",
      " |-- Customer Segment: string (nullable = true)\n",
      " |-- Department: string (nullable = true)\n",
      " |-- Item ID: string (nullable = true)\n",
      " |-- Item: string (nullable = true)\n",
      " |-- Order Date: string (nullable = true)\n",
      " |-- Order ID: string (nullable = true)\n",
      " |-- Order Priority: string (nullable = true)\n",
      " |-- Postal Code: string (nullable = true)\n",
      " |-- Region: string (nullable = true)\n",
      " |-- Row ID: string (nullable = true)\n",
      " |-- Ship Date: string (nullable = true)\n",
      " |-- Ship Mode: string (nullable = true)\n",
      " |-- State: string (nullable = true)\n",
      " |-- Discount: string (nullable = true)\n",
      " |-- Order Quantity: string (nullable = true)\n",
      " |-- Product Base Margin: string (nullable = true)\n",
      " |-- Profit: string (nullable = true)\n",
      " |-- Sales: string (nullable = true)\n",
      " |-- Shipping Cost: string (nullable = true)\n",
      " |-- Unit Price: string (nullable = true)\n",
      "\n"
     ]
    }
   ],
   "source": [
    "df_scala.printSchema"
   ]
  },
  {
   "cell_type": "code",
   "execution_count": 5,
   "metadata": {},
   "outputs": [
    {
     "name": "stdout",
     "output_type": "stream",
     "text": [
      "+---------------+---------------+---------------+------+\n",
      "|  Customer name|  Customer name|       CUSTOMER|Profit|\n",
      "+---------------+---------------+---------------+------+\n",
      "|    Mark Bailey|    Mark Bailey|    Mark Bailey|   -76|\n",
      "|    Mark Bailey|    Mark Bailey|    Mark Bailey|    52|\n",
      "|Daniel Richmond|Daniel Richmond|Daniel Richmond|   -22|\n",
      "+---------------+---------------+---------------+------+\n",
      "only showing top 3 rows\n",
      "\n",
      "+---------------+\n",
      "|  Customer name|\n",
      "+---------------+\n",
      "|    Mark Bailey|\n",
      "|    Mark Bailey|\n",
      "|Daniel Richmond|\n",
      "+---------------+\n",
      "only showing top 3 rows\n",
      "\n"
     ]
    },
    {
     "data": {
      "text/plain": [
       "import org.apache.spark.sql.functions.column\r\n",
       "import org.apache.spark.sql.functions.col\r\n",
       "query: String =\r\n",
       "\"\r\n",
       "            SELECT `Customer name`\r\n",
       "            FROM   df_scala_SQL\r\n",
       "            \"\n"
      ]
     },
     "execution_count": 5,
     "metadata": {},
     "output_type": "execute_result"
    }
   ],
   "source": [
    "import org.apache.spark.sql.functions.column\n",
    "import org.apache.spark.sql.functions.col\n",
    "\n",
    "df_scala.select($\"Customer name\", \n",
    "                col(\"Customer name\"),\n",
    "                column(\"Customer name\") as 'CUSTOMER,\n",
    "                'Profit // allow for non-space column\n",
    "                ).show(3)\n",
    "\n",
    "\n",
    "df_scala.createOrReplaceTempView(\"df_scala_SQL\")\n",
    "val query = \"\"\"\n",
    "            SELECT `Customer name`\n",
    "            FROM   df_scala_SQL\n",
    "            \"\"\"\n",
    "spark.sql(query).show(3)"
   ]
  },
  {
   "cell_type": "code",
   "execution_count": null,
   "metadata": {},
   "outputs": [],
   "source": []
  }
 ],
 "metadata": {
  "kernelspec": {
   "display_name": "spylon-kernel",
   "language": "scala",
   "name": "spylon-kernel"
  },
  "language_info": {
   "codemirror_mode": "text/x-scala",
   "file_extension": ".scala",
   "help_links": [
    {
     "text": "MetaKernel Magics",
     "url": "https://metakernel.readthedocs.io/en/latest/source/README.html"
    }
   ],
   "mimetype": "text/x-scala",
   "name": "scala",
   "pygments_lexer": "scala",
   "version": "0.4.1"
  }
 },
 "nbformat": 4,
 "nbformat_minor": 2
}
